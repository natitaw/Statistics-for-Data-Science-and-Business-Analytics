{
 "cells": [
  {
   "cell_type": "code",
   "execution_count": 37,
   "metadata": {},
   "outputs": [],
   "source": [
    "# Frequency Distribution\n",
    "import matplotlib.pyplot as plt\n",
    "import numpy as np\n",
    "\n",
    "def freq_distr(title=None, figsize=(10,8),\n",
    "               labels=None, y_data=None,\n",
    "               ylabel=None, xlabel=None,\n",
    "               width=0.0,\n",
    "              autolabeler=False,\n",
    "              color='yellow'):\n",
    "    \n",
    "    fig, ax = plt.subplots(figsize=figsize)\n",
    "    \n",
    "    ax.set_title('Frequency Distribution', color=color, fontsize=16)\n",
    "    ax.set_xlabel(f'{xlabel}')\n",
    "    ax.set_ylabel(f'{ylabel}')\n",
    "    \n",
    "    y_pos = np.arange(len(labels))\n",
    "    rects1 = ax.bar(y_pos, y_data)\n",
    "    \n",
    "    ax.set_xticks(y_pos + width / 2)\n",
    "    ax.set_xticklabels(cities, color=color)\n",
    "    ax.set_ylim([0, max(y_data)+3])\n",
    "\n",
    "    plt.yticks(color=color)\n",
    "\n",
    "    if autolabeler:\n",
    "\n",
    "        def autolabel(rects):\n",
    "            \"\"\"\n",
    "            Attach a text label above each bar displaying its height\n",
    "            \"\"\"\n",
    "            for rect in rects:\n",
    "                height = rect.get_height()\n",
    "                ax.text(rect.get_x() + rect.get_width()/2., 1.05*height,\n",
    "                        '%.2f' % (height),\n",
    "                        ha='center', va='bottom')\n",
    "\n",
    "        autolabel(rects1)\n",
    "        \n",
    "    plt.show()"
   ]
  },
  {
   "cell_type": "code",
   "execution_count": 36,
   "metadata": {},
   "outputs": [
    {
     "data": {
      "image/png": "[encoded data removed]",
      "text/plain": [
       "<Figure size 720x576 with 1 Axes>"
      ]
     },
     "metadata": {
      "needs_background": "dark"
     },
     "output_type": "display_data"
    }
   ],
   "source": [
    "cities = ['NY', 'LA', 'SF']\n",
    "freq = [12.327, 17.129, 19.923]\n",
    "\n",
    "freq_distr(labels=cities, y_data=freq, autolabeler=True)"
   ]
  },
  {
   "cell_type": "code",
   "execution_count": null,
   "metadata": {},
   "outputs": [],
   "source": []
  }
 ],
 "metadata": {
  "kernelspec": {
   "display_name": "Python 3",
   "language": "python",
   "name": "python3"
  },
  "language_info": {
   "codemirror_mode": {
    "name": "ipython",
    "version": 3
   },
   "file_extension": ".py",
   "mimetype": "text/x-python",
   "name": "python",
   "nbconvert_exporter": "python",
   "pygments_lexer": "ipython3",
   "version": "3.7.6"
  }
 },
 "nbformat": 4,
 "nbformat_minor": 4
}
